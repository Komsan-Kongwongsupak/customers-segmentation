{
 "cells": [
  {
   "attachments": {},
   "cell_type": "markdown",
   "metadata": {},
   "source": [
    "# Customer Segmentation and Personalized Marketing\n",
    "\n",
    "The objective of this project is to analyze the e-commerce dataset and perform customer segmentation to identify distinct groups of customers. By understanding customer segments, I can develop personalized marketing strategies to enhance customer experience, increase engagement, and drive sales.\n",
    "\n",
    "This data science project follows several steps:\n",
    "1. Data Preprocessing:\n",
    "    - Load the dataset and examine its structure.\n",
    "    - Handle missing values, outliers, and data inconsistencies.\n",
    "    - Explore the variables and understand their meaning and relevance to the project's objective.\n",
    "2. Feature Engineering:\n",
    "    - Create new features that might be useful for segmentation and marketing strategies.\n",
    "3. Customer Segmentation:\n",
    "    - Apply a suitable clustering algorithm (e.g., K-means, DBSCAN) to segment customers based on their purchase behavior.\n",
    "    - Select appropriate features for clustering, such as total spent, purchase frequency, or time since last purchase.\n",
    "    - Determine the optimal number of clusters using evaluation metrics like silhouette score or elbow method.\n",
    "    - Visualize the resulting clusters to gain insights into different customer segments.\n",
    "4. Customer Profiling:\n",
    "    - Analyze the characteristics of each customer segment.\n",
    "    - Identify key attributes that distinguish one segment from another.\n",
    "    - Explore demographic information (if available) to gain deeper insights into each segment.\n",
    "5. Personalized Marketing Strategies:\n",
    "    - Develop personalized marketing strategies for each customer segment based on their characteristics.\n",
    "    - Test the effectiveness of the personalized marketing strategies using A/B testing or other evaluation methods.\n",
    "    - Monitor key performance metrics, such as conversion rate, click-through rate, or customer lifetime value, to measure the impact of the strategies.\n",
    "6. Visualization and Reporting:\n",
    "    - Create visualizations to present the findings and insights from the customer segmentation analysis.\n",
    "    - Generate reports summarizing the customer segments, their characteristics, and the recommended marketing strategies.\n",
    "    - Communicate the results effectively to stakeholders, such as marketing teams or business owners.\n",
    "\n",
    "Dataset resource: https://www.kaggle.com/datasets/carrie1/ecommerce-data."
   ]
  },
  {
   "attachments": {},
   "cell_type": "markdown",
   "metadata": {},
   "source": [
    "### Data Preprocessing\n",
    "\n",
    "I started this project by importing some essential Python modules that were likely to be used later."
   ]
  },
  {
   "cell_type": "code",
   "execution_count": 2,
   "metadata": {},
   "outputs": [
    {
     "name": "stdout",
     "output_type": "stream",
     "text": [
      "numpy version: 1.24.2\n",
      "pandas version: 1.5.3\n",
      "matplotlib version: 3.7.0\n",
      "seaborn version: 0.12.2\n",
      "file path = datasets\n"
     ]
    }
   ],
   "source": [
    "import os\n",
    "import numpy as np\n",
    "import pandas as pd\n",
    "import matplotlib as mpl\n",
    "import matplotlib.pyplot as plt\n",
    "import seaborn as sns\n",
    "%matplotlib inline\n",
    "\n",
    "print(f'numpy version: {np.__version__}')\n",
    "print(f'pandas version: {pd.__version__}')\n",
    "print(f'matplotlib version: {mpl.__version__}')\n",
    "print(f'seaborn version: {sns.__version__}')\n",
    "\n",
    "file_path = 'datasets'\n",
    "\n",
    "print(f'file path = {file_path}')"
   ]
  },
  {
   "attachments": {},
   "cell_type": "markdown",
   "metadata": {},
   "source": [
    "The original dataset is provided in one CSV file, \"data.csv\", so I stored the file content into a DataFrame named `df`."
   ]
  },
  {
   "cell_type": "code",
   "execution_count": 2,
   "metadata": {},
   "outputs": [
    {
     "data": {
      "text/html": [
       "<div>\n",
       "<style scoped>\n",
       "    .dataframe tbody tr th:only-of-type {\n",
       "        vertical-align: middle;\n",
       "    }\n",
       "\n",
       "    .dataframe tbody tr th {\n",
       "        vertical-align: top;\n",
       "    }\n",
       "\n",
       "    .dataframe thead th {\n",
       "        text-align: right;\n",
       "    }\n",
       "</style>\n",
       "<table border=\"1\" class=\"dataframe\">\n",
       "  <thead>\n",
       "    <tr style=\"text-align: right;\">\n",
       "      <th></th>\n",
       "      <th>InvoiceNo</th>\n",
       "      <th>StockCode</th>\n",
       "      <th>Description</th>\n",
       "      <th>Quantity</th>\n",
       "      <th>InvoiceDate</th>\n",
       "      <th>UnitPrice</th>\n",
       "      <th>CustomerID</th>\n",
       "      <th>Country</th>\n",
       "    </tr>\n",
       "  </thead>\n",
       "  <tbody>\n",
       "    <tr>\n",
       "      <th>0</th>\n",
       "      <td>536365</td>\n",
       "      <td>85123A</td>\n",
       "      <td>WHITE HANGING HEART T-LIGHT HOLDER</td>\n",
       "      <td>6</td>\n",
       "      <td>12/1/2010 8:26</td>\n",
       "      <td>2.55</td>\n",
       "      <td>17850.0</td>\n",
       "      <td>United Kingdom</td>\n",
       "    </tr>\n",
       "    <tr>\n",
       "      <th>1</th>\n",
       "      <td>536365</td>\n",
       "      <td>71053</td>\n",
       "      <td>WHITE METAL LANTERN</td>\n",
       "      <td>6</td>\n",
       "      <td>12/1/2010 8:26</td>\n",
       "      <td>3.39</td>\n",
       "      <td>17850.0</td>\n",
       "      <td>United Kingdom</td>\n",
       "    </tr>\n",
       "    <tr>\n",
       "      <th>2</th>\n",
       "      <td>536365</td>\n",
       "      <td>84406B</td>\n",
       "      <td>CREAM CUPID HEARTS COAT HANGER</td>\n",
       "      <td>8</td>\n",
       "      <td>12/1/2010 8:26</td>\n",
       "      <td>2.75</td>\n",
       "      <td>17850.0</td>\n",
       "      <td>United Kingdom</td>\n",
       "    </tr>\n",
       "    <tr>\n",
       "      <th>3</th>\n",
       "      <td>536365</td>\n",
       "      <td>84029G</td>\n",
       "      <td>KNITTED UNION FLAG HOT WATER BOTTLE</td>\n",
       "      <td>6</td>\n",
       "      <td>12/1/2010 8:26</td>\n",
       "      <td>3.39</td>\n",
       "      <td>17850.0</td>\n",
       "      <td>United Kingdom</td>\n",
       "    </tr>\n",
       "    <tr>\n",
       "      <th>4</th>\n",
       "      <td>536365</td>\n",
       "      <td>84029E</td>\n",
       "      <td>RED WOOLLY HOTTIE WHITE HEART.</td>\n",
       "      <td>6</td>\n",
       "      <td>12/1/2010 8:26</td>\n",
       "      <td>3.39</td>\n",
       "      <td>17850.0</td>\n",
       "      <td>United Kingdom</td>\n",
       "    </tr>\n",
       "  </tbody>\n",
       "</table>\n",
       "</div>"
      ],
      "text/plain": [
       "  InvoiceNo StockCode                          Description  Quantity  \\\n",
       "0    536365    85123A   WHITE HANGING HEART T-LIGHT HOLDER         6   \n",
       "1    536365     71053                  WHITE METAL LANTERN         6   \n",
       "2    536365    84406B       CREAM CUPID HEARTS COAT HANGER         8   \n",
       "3    536365    84029G  KNITTED UNION FLAG HOT WATER BOTTLE         6   \n",
       "4    536365    84029E       RED WOOLLY HOTTIE WHITE HEART.         6   \n",
       "\n",
       "      InvoiceDate  UnitPrice  CustomerID         Country  \n",
       "0  12/1/2010 8:26       2.55     17850.0  United Kingdom  \n",
       "1  12/1/2010 8:26       3.39     17850.0  United Kingdom  \n",
       "2  12/1/2010 8:26       2.75     17850.0  United Kingdom  \n",
       "3  12/1/2010 8:26       3.39     17850.0  United Kingdom  \n",
       "4  12/1/2010 8:26       3.39     17850.0  United Kingdom  "
      ]
     },
     "execution_count": 2,
     "metadata": {},
     "output_type": "execute_result"
    }
   ],
   "source": [
    "df = pd.read_csv(os.path.join(file_path, 'data.csv'), encoding = \"ISO-8859-1\")\n",
    "\n",
    "df.head(5)"
   ]
  },
  {
   "cell_type": "code",
   "execution_count": 3,
   "metadata": {},
   "outputs": [
    {
     "name": "stdout",
     "output_type": "stream",
     "text": [
      "<class 'pandas.core.frame.DataFrame'>\n",
      "RangeIndex: 541909 entries, 0 to 541908\n",
      "Data columns (total 8 columns):\n",
      " #   Column       Non-Null Count   Dtype  \n",
      "---  ------       --------------   -----  \n",
      " 0   InvoiceNo    541909 non-null  object \n",
      " 1   StockCode    541909 non-null  object \n",
      " 2   Description  540455 non-null  object \n",
      " 3   Quantity     541909 non-null  int64  \n",
      " 4   InvoiceDate  541909 non-null  object \n",
      " 5   UnitPrice    541909 non-null  float64\n",
      " 6   CustomerID   406829 non-null  float64\n",
      " 7   Country      541909 non-null  object \n",
      "dtypes: float64(2), int64(1), object(5)\n",
      "memory usage: 33.1+ MB\n"
     ]
    }
   ],
   "source": [
    "df.info()"
   ]
  },
  {
   "attachments": {},
   "cell_type": "markdown",
   "metadata": {},
   "source": [
    "There were 8 columns in `df`;\n",
    "- `InvoiceNo` contains the ID number of the invoice completed by customers.\n",
    "- `StockCode` contains the code of the stock where the product was ordered.\n",
    "- `Description` is the description of the purchased product.\n",
    "- `Quantity` is the number of products bought by the customers according to the invoice.\n",
    "- `InvoiceDate` stores the date and time when the purchase was successful.\n",
    "- `UnitPrice` is the cost of the product.\n",
    "- `CustomerID` is the ID number of the customer who completed the invoice.\n",
    "- `Country` is the country which the customer was located in.\n",
    "\n",
    "There were some issues in `df`, which means `df` had to be preprocessed;\n",
    "- `InvoiceDate` values' type was normal object, so I converted them into datetime object in order to make them more versatile.\n",
    "- `Description` and `CustomerID` contained null values, so I had to fill them with \"-\"."
   ]
  },
  {
   "cell_type": "code",
   "execution_count": 4,
   "metadata": {},
   "outputs": [
    {
     "data": {
      "text/plain": [
       "numpy.datetime64"
      ]
     },
     "execution_count": 4,
     "metadata": {},
     "output_type": "execute_result"
    }
   ],
   "source": [
    "df['InvoiceDate'] = df['InvoiceDate'].astype('datetime64')\n",
    "\n",
    "type(df['InvoiceDate'].values[0])"
   ]
  },
  {
   "cell_type": "code",
   "execution_count": 5,
   "metadata": {},
   "outputs": [
    {
     "name": "stdout",
     "output_type": "stream",
     "text": [
      "<class 'pandas.core.frame.DataFrame'>\n",
      "Int64Index: 541909 entries, 0 to 541908\n",
      "Data columns (total 8 columns):\n",
      " #   Column       Non-Null Count   Dtype         \n",
      "---  ------       --------------   -----         \n",
      " 0   InvoiceNo    541909 non-null  object        \n",
      " 1   StockCode    541909 non-null  object        \n",
      " 2   Description  541909 non-null  object        \n",
      " 3   Quantity     541909 non-null  int64         \n",
      " 4   InvoiceDate  541909 non-null  datetime64[ns]\n",
      " 5   UnitPrice    541909 non-null  float64       \n",
      " 6   CustomerID   541909 non-null  object        \n",
      " 7   Country      541909 non-null  object        \n",
      "dtypes: datetime64[ns](1), float64(1), int64(1), object(5)\n",
      "memory usage: 37.2+ MB\n"
     ]
    }
   ],
   "source": [
    "df = df.fillna('-')\n",
    "df = df.sort_values(by=['InvoiceDate', 'InvoiceNo'])\n",
    "\n",
    "df.info()"
   ]
  },
  {
   "attachments": {},
   "cell_type": "markdown",
   "metadata": {},
   "source": [
    "Since all features are clean, I could move to the next part."
   ]
  },
  {
   "attachments": {},
   "cell_type": "markdown",
   "metadata": {},
   "source": [
    "### Feature Engineering\n",
    "\n",
    "In this part, I created some more features that are useful for further analysis. The most necessary feature I added was `TotalPrice`, which represents the total price of the purchased product. The value could be retrieved by multiplying the `Quantity` value with the `UnitPrice` value."
   ]
  },
  {
   "cell_type": "code",
   "execution_count": 6,
   "metadata": {},
   "outputs": [
    {
     "data": {
      "text/html": [
       "<div>\n",
       "<style scoped>\n",
       "    .dataframe tbody tr th:only-of-type {\n",
       "        vertical-align: middle;\n",
       "    }\n",
       "\n",
       "    .dataframe tbody tr th {\n",
       "        vertical-align: top;\n",
       "    }\n",
       "\n",
       "    .dataframe thead th {\n",
       "        text-align: right;\n",
       "    }\n",
       "</style>\n",
       "<table border=\"1\" class=\"dataframe\">\n",
       "  <thead>\n",
       "    <tr style=\"text-align: right;\">\n",
       "      <th></th>\n",
       "      <th>Quantity</th>\n",
       "      <th>UnitPrice</th>\n",
       "      <th>TotalPrice</th>\n",
       "    </tr>\n",
       "  </thead>\n",
       "  <tbody>\n",
       "    <tr>\n",
       "      <th>0</th>\n",
       "      <td>6</td>\n",
       "      <td>2.55</td>\n",
       "      <td>15.30</td>\n",
       "    </tr>\n",
       "    <tr>\n",
       "      <th>1</th>\n",
       "      <td>6</td>\n",
       "      <td>3.39</td>\n",
       "      <td>20.34</td>\n",
       "    </tr>\n",
       "    <tr>\n",
       "      <th>2</th>\n",
       "      <td>8</td>\n",
       "      <td>2.75</td>\n",
       "      <td>22.00</td>\n",
       "    </tr>\n",
       "    <tr>\n",
       "      <th>3</th>\n",
       "      <td>6</td>\n",
       "      <td>3.39</td>\n",
       "      <td>20.34</td>\n",
       "    </tr>\n",
       "    <tr>\n",
       "      <th>4</th>\n",
       "      <td>6</td>\n",
       "      <td>3.39</td>\n",
       "      <td>20.34</td>\n",
       "    </tr>\n",
       "  </tbody>\n",
       "</table>\n",
       "</div>"
      ],
      "text/plain": [
       "   Quantity  UnitPrice  TotalPrice\n",
       "0         6       2.55       15.30\n",
       "1         6       3.39       20.34\n",
       "2         8       2.75       22.00\n",
       "3         6       3.39       20.34\n",
       "4         6       3.39       20.34"
      ]
     },
     "execution_count": 6,
     "metadata": {},
     "output_type": "execute_result"
    }
   ],
   "source": [
    "df['TotalPrice'] = df[['Quantity', 'UnitPrice']].apply(lambda x: x[0] * x[1], axis=1)\n",
    "\n",
    "df[['Quantity', 'UnitPrice', 'TotalPrice']].head(5)"
   ]
  },
  {
   "attachments": {},
   "cell_type": "markdown",
   "metadata": {},
   "source": [
    "The process below is a special one. I exported the complete `df` into a new CSV file, `data_clean.csv`, to save it as a part of the preprocessed database."
   ]
  },
  {
   "cell_type": "code",
   "execution_count": 7,
   "metadata": {},
   "outputs": [
    {
     "data": {
      "text/html": [
       "<div>\n",
       "<style scoped>\n",
       "    .dataframe tbody tr th:only-of-type {\n",
       "        vertical-align: middle;\n",
       "    }\n",
       "\n",
       "    .dataframe tbody tr th {\n",
       "        vertical-align: top;\n",
       "    }\n",
       "\n",
       "    .dataframe thead th {\n",
       "        text-align: right;\n",
       "    }\n",
       "</style>\n",
       "<table border=\"1\" class=\"dataframe\">\n",
       "  <thead>\n",
       "    <tr style=\"text-align: right;\">\n",
       "      <th></th>\n",
       "      <th>InvoiceNo</th>\n",
       "      <th>StockCode</th>\n",
       "      <th>Description</th>\n",
       "      <th>Quantity</th>\n",
       "      <th>InvoiceDate</th>\n",
       "      <th>UnitPrice</th>\n",
       "      <th>CustomerID</th>\n",
       "      <th>Country</th>\n",
       "      <th>TotalPrice</th>\n",
       "    </tr>\n",
       "  </thead>\n",
       "  <tbody>\n",
       "    <tr>\n",
       "      <th>0</th>\n",
       "      <td>536365</td>\n",
       "      <td>85123A</td>\n",
       "      <td>WHITE HANGING HEART T-LIGHT HOLDER</td>\n",
       "      <td>6</td>\n",
       "      <td>2010-12-01 08:26:00</td>\n",
       "      <td>2.55</td>\n",
       "      <td>17850.0</td>\n",
       "      <td>United Kingdom</td>\n",
       "      <td>15.30</td>\n",
       "    </tr>\n",
       "    <tr>\n",
       "      <th>1</th>\n",
       "      <td>536365</td>\n",
       "      <td>71053</td>\n",
       "      <td>WHITE METAL LANTERN</td>\n",
       "      <td>6</td>\n",
       "      <td>2010-12-01 08:26:00</td>\n",
       "      <td>3.39</td>\n",
       "      <td>17850.0</td>\n",
       "      <td>United Kingdom</td>\n",
       "      <td>20.34</td>\n",
       "    </tr>\n",
       "    <tr>\n",
       "      <th>2</th>\n",
       "      <td>536365</td>\n",
       "      <td>84406B</td>\n",
       "      <td>CREAM CUPID HEARTS COAT HANGER</td>\n",
       "      <td>8</td>\n",
       "      <td>2010-12-01 08:26:00</td>\n",
       "      <td>2.75</td>\n",
       "      <td>17850.0</td>\n",
       "      <td>United Kingdom</td>\n",
       "      <td>22.00</td>\n",
       "    </tr>\n",
       "    <tr>\n",
       "      <th>3</th>\n",
       "      <td>536365</td>\n",
       "      <td>84029G</td>\n",
       "      <td>KNITTED UNION FLAG HOT WATER BOTTLE</td>\n",
       "      <td>6</td>\n",
       "      <td>2010-12-01 08:26:00</td>\n",
       "      <td>3.39</td>\n",
       "      <td>17850.0</td>\n",
       "      <td>United Kingdom</td>\n",
       "      <td>20.34</td>\n",
       "    </tr>\n",
       "    <tr>\n",
       "      <th>4</th>\n",
       "      <td>536365</td>\n",
       "      <td>84029E</td>\n",
       "      <td>RED WOOLLY HOTTIE WHITE HEART.</td>\n",
       "      <td>6</td>\n",
       "      <td>2010-12-01 08:26:00</td>\n",
       "      <td>3.39</td>\n",
       "      <td>17850.0</td>\n",
       "      <td>United Kingdom</td>\n",
       "      <td>20.34</td>\n",
       "    </tr>\n",
       "  </tbody>\n",
       "</table>\n",
       "</div>"
      ],
      "text/plain": [
       "  InvoiceNo StockCode                          Description  Quantity  \\\n",
       "0    536365    85123A   WHITE HANGING HEART T-LIGHT HOLDER         6   \n",
       "1    536365     71053                  WHITE METAL LANTERN         6   \n",
       "2    536365    84406B       CREAM CUPID HEARTS COAT HANGER         8   \n",
       "3    536365    84029G  KNITTED UNION FLAG HOT WATER BOTTLE         6   \n",
       "4    536365    84029E       RED WOOLLY HOTTIE WHITE HEART.         6   \n",
       "\n",
       "           InvoiceDate  UnitPrice CustomerID         Country  TotalPrice  \n",
       "0  2010-12-01 08:26:00       2.55    17850.0  United Kingdom       15.30  \n",
       "1  2010-12-01 08:26:00       3.39    17850.0  United Kingdom       20.34  \n",
       "2  2010-12-01 08:26:00       2.75    17850.0  United Kingdom       22.00  \n",
       "3  2010-12-01 08:26:00       3.39    17850.0  United Kingdom       20.34  \n",
       "4  2010-12-01 08:26:00       3.39    17850.0  United Kingdom       20.34  "
      ]
     },
     "execution_count": 7,
     "metadata": {},
     "output_type": "execute_result"
    }
   ],
   "source": [
    "df.to_csv(os.path.join(file_path, 'data_clean.csv'), index=False)\n",
    "df = pd.read_csv(os.path.join(file_path, 'data_clean.csv'), encoding = \"ISO-8859-1\")\n",
    "\n",
    "df.head(5)"
   ]
  },
  {
   "attachments": {},
   "cell_type": "markdown",
   "metadata": {},
   "source": [
    "I created a new table, `df_invoice`, to store unique invoices in each row. With this table, I can find the conversion rate and the average order values in each period. I determined the table to have 4 columns;\n",
    "- `InvoiceNo` still is the ID number of the invoice. However, InvoiceNo, in this table, contains unique values. Think of it as a primary key.\n",
    "- `TotalPrice` is the sum of the price spent in the invoice, which can be aggregated by using the sum of all `df`'s `TotalPrice` values in each invoice.\n",
    "- `InvoiceDate` has the same meaning as appeared in `df`.\n",
    "- `CustomerID` also has the same meaning as appeared in `df`."
   ]
  },
  {
   "cell_type": "code",
   "execution_count": 8,
   "metadata": {},
   "outputs": [
    {
     "name": "stderr",
     "output_type": "stream",
     "text": [
      "C:\\Users\\User\\AppData\\Local\\Temp\\ipykernel_14456\\3708952557.py:1: FutureWarning: The default value of numeric_only in DataFrameGroupBy.sum is deprecated. In a future version, numeric_only will default to False. Either specify numeric_only or select only columns which should be valid for the function.\n",
      "  total_price = df.groupby('InvoiceNo').sum()['TotalPrice']\n"
     ]
    },
    {
     "data": {
      "text/html": [
       "<div>\n",
       "<style scoped>\n",
       "    .dataframe tbody tr th:only-of-type {\n",
       "        vertical-align: middle;\n",
       "    }\n",
       "\n",
       "    .dataframe tbody tr th {\n",
       "        vertical-align: top;\n",
       "    }\n",
       "\n",
       "    .dataframe thead th {\n",
       "        text-align: right;\n",
       "    }\n",
       "</style>\n",
       "<table border=\"1\" class=\"dataframe\">\n",
       "  <thead>\n",
       "    <tr style=\"text-align: right;\">\n",
       "      <th></th>\n",
       "      <th>InvoiceNo</th>\n",
       "      <th>TotalPrice</th>\n",
       "      <th>InvoiceDate</th>\n",
       "      <th>CustomerID</th>\n",
       "    </tr>\n",
       "  </thead>\n",
       "  <tbody>\n",
       "    <tr>\n",
       "      <th>0</th>\n",
       "      <td>536365</td>\n",
       "      <td>139.12</td>\n",
       "      <td>2010-12-01 08:26:00</td>\n",
       "      <td>17850.0</td>\n",
       "    </tr>\n",
       "    <tr>\n",
       "      <th>1</th>\n",
       "      <td>536366</td>\n",
       "      <td>22.20</td>\n",
       "      <td>2010-12-01 08:28:00</td>\n",
       "      <td>17850.0</td>\n",
       "    </tr>\n",
       "    <tr>\n",
       "      <th>2</th>\n",
       "      <td>536367</td>\n",
       "      <td>278.73</td>\n",
       "      <td>2010-12-01 08:34:00</td>\n",
       "      <td>13047.0</td>\n",
       "    </tr>\n",
       "    <tr>\n",
       "      <th>3</th>\n",
       "      <td>536368</td>\n",
       "      <td>70.05</td>\n",
       "      <td>2010-12-01 08:34:00</td>\n",
       "      <td>13047.0</td>\n",
       "    </tr>\n",
       "    <tr>\n",
       "      <th>4</th>\n",
       "      <td>536369</td>\n",
       "      <td>17.85</td>\n",
       "      <td>2010-12-01 08:35:00</td>\n",
       "      <td>13047.0</td>\n",
       "    </tr>\n",
       "  </tbody>\n",
       "</table>\n",
       "</div>"
      ],
      "text/plain": [
       "  InvoiceNo  TotalPrice          InvoiceDate CustomerID\n",
       "0    536365      139.12  2010-12-01 08:26:00    17850.0\n",
       "1    536366       22.20  2010-12-01 08:28:00    17850.0\n",
       "2    536367      278.73  2010-12-01 08:34:00    13047.0\n",
       "3    536368       70.05  2010-12-01 08:34:00    13047.0\n",
       "4    536369       17.85  2010-12-01 08:35:00    13047.0"
      ]
     },
     "execution_count": 8,
     "metadata": {},
     "output_type": "execute_result"
    }
   ],
   "source": [
    "total_price = df.groupby('InvoiceNo').sum()['TotalPrice']\n",
    "df_invoice = pd.DataFrame({'InvoiceNo': total_price.keys(), 'TotalPrice': total_price.values})\n",
    "df_invoice['InvoiceDate'] = df_invoice['InvoiceNo'].apply(lambda x: df[df['InvoiceNo'] == x]['InvoiceDate'].values[0])\n",
    "df_invoice['CustomerID'] = df_invoice['InvoiceNo'].apply(lambda x: df[df['InvoiceNo'] == x]['CustomerID'].values[0])\n",
    "\n",
    "df_invoice.head(5)"
   ]
  },
  {
   "cell_type": "code",
   "execution_count": 9,
   "metadata": {},
   "outputs": [
    {
     "name": "stdout",
     "output_type": "stream",
     "text": [
      "<class 'pandas.core.frame.DataFrame'>\n",
      "RangeIndex: 25900 entries, 0 to 25899\n",
      "Data columns (total 4 columns):\n",
      " #   Column       Non-Null Count  Dtype  \n",
      "---  ------       --------------  -----  \n",
      " 0   InvoiceNo    25900 non-null  object \n",
      " 1   TotalPrice   25900 non-null  float64\n",
      " 2   InvoiceDate  25900 non-null  object \n",
      " 3   CustomerID   25900 non-null  object \n",
      "dtypes: float64(1), object(3)\n",
      "memory usage: 809.5+ KB\n"
     ]
    }
   ],
   "source": [
    "df_invoice.info()"
   ]
  },
  {
   "attachments": {},
   "cell_type": "markdown",
   "metadata": {},
   "source": [
    "Like what I did to `df`, I exported `df_invoice` as `invoice_clean.csv`."
   ]
  },
  {
   "cell_type": "code",
   "execution_count": 10,
   "metadata": {},
   "outputs": [
    {
     "data": {
      "text/html": [
       "<div>\n",
       "<style scoped>\n",
       "    .dataframe tbody tr th:only-of-type {\n",
       "        vertical-align: middle;\n",
       "    }\n",
       "\n",
       "    .dataframe tbody tr th {\n",
       "        vertical-align: top;\n",
       "    }\n",
       "\n",
       "    .dataframe thead th {\n",
       "        text-align: right;\n",
       "    }\n",
       "</style>\n",
       "<table border=\"1\" class=\"dataframe\">\n",
       "  <thead>\n",
       "    <tr style=\"text-align: right;\">\n",
       "      <th></th>\n",
       "      <th>InvoiceNo</th>\n",
       "      <th>TotalPrice</th>\n",
       "      <th>InvoiceDate</th>\n",
       "      <th>CustomerID</th>\n",
       "    </tr>\n",
       "  </thead>\n",
       "  <tbody>\n",
       "    <tr>\n",
       "      <th>0</th>\n",
       "      <td>536365</td>\n",
       "      <td>139.12</td>\n",
       "      <td>2010-12-01 08:26:00</td>\n",
       "      <td>17850.0</td>\n",
       "    </tr>\n",
       "    <tr>\n",
       "      <th>1</th>\n",
       "      <td>536366</td>\n",
       "      <td>22.20</td>\n",
       "      <td>2010-12-01 08:28:00</td>\n",
       "      <td>17850.0</td>\n",
       "    </tr>\n",
       "    <tr>\n",
       "      <th>2</th>\n",
       "      <td>536367</td>\n",
       "      <td>278.73</td>\n",
       "      <td>2010-12-01 08:34:00</td>\n",
       "      <td>13047.0</td>\n",
       "    </tr>\n",
       "    <tr>\n",
       "      <th>3</th>\n",
       "      <td>536368</td>\n",
       "      <td>70.05</td>\n",
       "      <td>2010-12-01 08:34:00</td>\n",
       "      <td>13047.0</td>\n",
       "    </tr>\n",
       "    <tr>\n",
       "      <th>4</th>\n",
       "      <td>536369</td>\n",
       "      <td>17.85</td>\n",
       "      <td>2010-12-01 08:35:00</td>\n",
       "      <td>13047.0</td>\n",
       "    </tr>\n",
       "  </tbody>\n",
       "</table>\n",
       "</div>"
      ],
      "text/plain": [
       "  InvoiceNo  TotalPrice          InvoiceDate CustomerID\n",
       "0    536365      139.12  2010-12-01 08:26:00    17850.0\n",
       "1    536366       22.20  2010-12-01 08:28:00    17850.0\n",
       "2    536367      278.73  2010-12-01 08:34:00    13047.0\n",
       "3    536368       70.05  2010-12-01 08:34:00    13047.0\n",
       "4    536369       17.85  2010-12-01 08:35:00    13047.0"
      ]
     },
     "execution_count": 10,
     "metadata": {},
     "output_type": "execute_result"
    }
   ],
   "source": [
    "df_invoice.to_csv(os.path.join(file_path, 'invoice_clean.csv'), index=False)\n",
    "df_invoice = pd.read_csv(os.path.join(file_path, 'invoice_clean.csv'), encoding = \"ISO-8859-1\")\n",
    "\n",
    "df_invoice.head(5)"
   ]
  },
  {
   "attachments": {},
   "cell_type": "markdown",
   "metadata": {},
   "source": [
    "Besides `df_invoice`, I created another table named `df_customer` to store unique customer ID, like what `df_invoice` does to the invoice entity. The table was defined to have 8 columns.\n",
    "\n",
    "- `CustomerID` acts as the only primary key of the table by storing unique customers by their ID numbers.\n",
    "- `Country` is the country where the customer is in.\n",
    "- `ShoppingTimes` is the number of invoices made by the customer. It also implies how frequent the customer buys things in the store.\n",
    "- `FirstTimeShopping` is the date when the customer firstly made a purchase.\n",
    "- `RecentTimeShopping` is the most recent date when the customer made a purchase.\n",
    "- `ShoppingItems` is the number of total unique items the customer buys.\n",
    "- `ShoppingQuantity` is the number of all things bought by the customer.\n",
    "- `Price` is the total money the customer spent on all purchases."
   ]
  },
  {
   "cell_type": "code",
   "execution_count": 11,
   "metadata": {},
   "outputs": [
    {
     "data": {
      "text/html": [
       "<div>\n",
       "<style scoped>\n",
       "    .dataframe tbody tr th:only-of-type {\n",
       "        vertical-align: middle;\n",
       "    }\n",
       "\n",
       "    .dataframe tbody tr th {\n",
       "        vertical-align: top;\n",
       "    }\n",
       "\n",
       "    .dataframe thead th {\n",
       "        text-align: right;\n",
       "    }\n",
       "</style>\n",
       "<table border=\"1\" class=\"dataframe\">\n",
       "  <thead>\n",
       "    <tr style=\"text-align: right;\">\n",
       "      <th></th>\n",
       "      <th>CustomerID</th>\n",
       "      <th>Country</th>\n",
       "    </tr>\n",
       "  </thead>\n",
       "  <tbody>\n",
       "  </tbody>\n",
       "</table>\n",
       "</div>"
      ],
      "text/plain": [
       "Empty DataFrame\n",
       "Columns: [CustomerID, Country]\n",
       "Index: []"
      ]
     },
     "execution_count": 11,
     "metadata": {},
     "output_type": "execute_result"
    }
   ],
   "source": [
    "df_customer = pd.DataFrame(df[['CustomerID', 'Country']].drop_duplicates(), columns=['CustomerID', 'Country']).reset_index().drop('index', axis=1)\n",
    "df_customer = df_customer.drop(df_customer[df_customer['CustomerID'] == '-'].index)\n",
    "\n",
    "df_customer[df_customer['CustomerID'] == '-']"
   ]
  },
  {
   "cell_type": "code",
   "execution_count": 12,
   "metadata": {},
   "outputs": [
    {
     "data": {
      "text/html": [
       "<div>\n",
       "<style scoped>\n",
       "    .dataframe tbody tr th:only-of-type {\n",
       "        vertical-align: middle;\n",
       "    }\n",
       "\n",
       "    .dataframe tbody tr th {\n",
       "        vertical-align: top;\n",
       "    }\n",
       "\n",
       "    .dataframe thead th {\n",
       "        text-align: right;\n",
       "    }\n",
       "</style>\n",
       "<table border=\"1\" class=\"dataframe\">\n",
       "  <thead>\n",
       "    <tr style=\"text-align: right;\">\n",
       "      <th></th>\n",
       "      <th>CustomerID</th>\n",
       "      <th>Country</th>\n",
       "      <th>ShoppingTimes</th>\n",
       "      <th>FirstTimeShopping</th>\n",
       "      <th>RecentTimeShopping</th>\n",
       "      <th>ShoppingItems</th>\n",
       "      <th>ShoppingQuantity</th>\n",
       "      <th>Price</th>\n",
       "    </tr>\n",
       "  </thead>\n",
       "  <tbody>\n",
       "    <tr>\n",
       "      <th>0</th>\n",
       "      <td>17850.0</td>\n",
       "      <td>United Kingdom</td>\n",
       "      <td>35</td>\n",
       "      <td>2010-12-01 08:26:00</td>\n",
       "      <td>2011-02-10 14:38:00</td>\n",
       "      <td>312</td>\n",
       "      <td>1693</td>\n",
       "      <td>5288.63</td>\n",
       "    </tr>\n",
       "    <tr>\n",
       "      <th>1</th>\n",
       "      <td>13047.0</td>\n",
       "      <td>United Kingdom</td>\n",
       "      <td>18</td>\n",
       "      <td>2010-12-01 08:34:00</td>\n",
       "      <td>2011-11-08 12:10:00</td>\n",
       "      <td>196</td>\n",
       "      <td>1355</td>\n",
       "      <td>3079.10</td>\n",
       "    </tr>\n",
       "    <tr>\n",
       "      <th>2</th>\n",
       "      <td>12583.0</td>\n",
       "      <td>France</td>\n",
       "      <td>18</td>\n",
       "      <td>2010-12-01 08:45:00</td>\n",
       "      <td>2011-12-07 08:07:00</td>\n",
       "      <td>251</td>\n",
       "      <td>5009</td>\n",
       "      <td>7187.34</td>\n",
       "    </tr>\n",
       "    <tr>\n",
       "      <th>3</th>\n",
       "      <td>13748.0</td>\n",
       "      <td>United Kingdom</td>\n",
       "      <td>5</td>\n",
       "      <td>2010-12-01 09:00:00</td>\n",
       "      <td>2011-09-05 09:45:00</td>\n",
       "      <td>28</td>\n",
       "      <td>439</td>\n",
       "      <td>948.25</td>\n",
       "    </tr>\n",
       "    <tr>\n",
       "      <th>4</th>\n",
       "      <td>15100.0</td>\n",
       "      <td>United Kingdom</td>\n",
       "      <td>6</td>\n",
       "      <td>2010-12-01 09:09:00</td>\n",
       "      <td>2011-01-13 17:09:00</td>\n",
       "      <td>6</td>\n",
       "      <td>58</td>\n",
       "      <td>635.10</td>\n",
       "    </tr>\n",
       "  </tbody>\n",
       "</table>\n",
       "</div>"
      ],
      "text/plain": [
       "  CustomerID         Country  ShoppingTimes    FirstTimeShopping  \\\n",
       "0    17850.0  United Kingdom             35  2010-12-01 08:26:00   \n",
       "1    13047.0  United Kingdom             18  2010-12-01 08:34:00   \n",
       "2    12583.0          France             18  2010-12-01 08:45:00   \n",
       "3    13748.0  United Kingdom              5  2010-12-01 09:00:00   \n",
       "4    15100.0  United Kingdom              6  2010-12-01 09:09:00   \n",
       "\n",
       "    RecentTimeShopping  ShoppingItems  ShoppingQuantity    Price  \n",
       "0  2011-02-10 14:38:00            312              1693  5288.63  \n",
       "1  2011-11-08 12:10:00            196              1355  3079.10  \n",
       "2  2011-12-07 08:07:00            251              5009  7187.34  \n",
       "3  2011-09-05 09:45:00             28               439   948.25  \n",
       "4  2011-01-13 17:09:00              6                58   635.10  "
      ]
     },
     "execution_count": 12,
     "metadata": {},
     "output_type": "execute_result"
    }
   ],
   "source": [
    "df_customer['ShoppingTimes'] = df_customer['CustomerID'].apply(lambda x: df[df['CustomerID'] == x]['InvoiceNo'].nunique())\n",
    "df_customer['FirstTimeShopping'] = df_customer['CustomerID'].apply(lambda x: df[df['CustomerID'] == x]['InvoiceDate'].values[0])\n",
    "df_customer['RecentTimeShopping'] = df_customer['CustomerID'].apply(lambda x: df[df['CustomerID'] == x]['InvoiceDate'].values[-1])\n",
    "df_customer['ShoppingItems'] = df_customer['CustomerID'].apply(lambda x: len(df[df['CustomerID'] == x]['InvoiceNo']))\n",
    "df_customer['ShoppingQuantity'] = df_customer['CustomerID'].apply(lambda x: df[df['CustomerID'] == x]['Quantity'].sum())\n",
    "df_customer['Price'] = df_customer['CustomerID'].apply(lambda x: np.round(df[df['CustomerID'] == x]['TotalPrice'].sum(), 2))\n",
    "\n",
    "df_customer.head(5)"
   ]
  },
  {
   "attachments": {},
   "cell_type": "markdown",
   "metadata": {},
   "source": [
    "I deleted all customers who spent the negative money since I aim for only the customers who did make a purchase in the normal case."
   ]
  },
  {
   "cell_type": "code",
   "execution_count": 13,
   "metadata": {},
   "outputs": [
    {
     "data": {
      "text/html": [
       "<div>\n",
       "<style scoped>\n",
       "    .dataframe tbody tr th:only-of-type {\n",
       "        vertical-align: middle;\n",
       "    }\n",
       "\n",
       "    .dataframe tbody tr th {\n",
       "        vertical-align: top;\n",
       "    }\n",
       "\n",
       "    .dataframe thead th {\n",
       "        text-align: right;\n",
       "    }\n",
       "</style>\n",
       "<table border=\"1\" class=\"dataframe\">\n",
       "  <thead>\n",
       "    <tr style=\"text-align: right;\">\n",
       "      <th></th>\n",
       "      <th>CustomerID</th>\n",
       "      <th>Country</th>\n",
       "      <th>ShoppingTimes</th>\n",
       "      <th>FirstTimeShopping</th>\n",
       "      <th>RecentTimeShopping</th>\n",
       "      <th>ShoppingItems</th>\n",
       "      <th>ShoppingQuantity</th>\n",
       "      <th>Price</th>\n",
       "    </tr>\n",
       "  </thead>\n",
       "  <tbody>\n",
       "  </tbody>\n",
       "</table>\n",
       "</div>"
      ],
      "text/plain": [
       "Empty DataFrame\n",
       "Columns: [CustomerID, Country, ShoppingTimes, FirstTimeShopping, RecentTimeShopping, ShoppingItems, ShoppingQuantity, Price]\n",
       "Index: []"
      ]
     },
     "execution_count": 13,
     "metadata": {},
     "output_type": "execute_result"
    }
   ],
   "source": [
    "df_customer = df_customer.drop(df_customer[df_customer['Price'] < 0].index)\n",
    "\n",
    "df_customer[df_customer['Price'] < 0]"
   ]
  },
  {
   "cell_type": "code",
   "execution_count": 14,
   "metadata": {},
   "outputs": [
    {
     "name": "stdout",
     "output_type": "stream",
     "text": [
      "<class 'pandas.core.frame.DataFrame'>\n",
      "Int64Index: 4339 entries, 0 to 4388\n",
      "Data columns (total 8 columns):\n",
      " #   Column              Non-Null Count  Dtype  \n",
      "---  ------              --------------  -----  \n",
      " 0   CustomerID          4339 non-null   object \n",
      " 1   Country             4339 non-null   object \n",
      " 2   ShoppingTimes       4339 non-null   int64  \n",
      " 3   FirstTimeShopping   4339 non-null   object \n",
      " 4   RecentTimeShopping  4339 non-null   object \n",
      " 5   ShoppingItems       4339 non-null   int64  \n",
      " 6   ShoppingQuantity    4339 non-null   int64  \n",
      " 7   Price               4339 non-null   float64\n",
      "dtypes: float64(1), int64(3), object(4)\n",
      "memory usage: 305.1+ KB\n"
     ]
    }
   ],
   "source": [
    "df_customer.info()"
   ]
  },
  {
   "cell_type": "code",
   "execution_count": 15,
   "metadata": {},
   "outputs": [
    {
     "data": {
      "text/html": [
       "<div>\n",
       "<style scoped>\n",
       "    .dataframe tbody tr th:only-of-type {\n",
       "        vertical-align: middle;\n",
       "    }\n",
       "\n",
       "    .dataframe tbody tr th {\n",
       "        vertical-align: top;\n",
       "    }\n",
       "\n",
       "    .dataframe thead th {\n",
       "        text-align: right;\n",
       "    }\n",
       "</style>\n",
       "<table border=\"1\" class=\"dataframe\">\n",
       "  <thead>\n",
       "    <tr style=\"text-align: right;\">\n",
       "      <th></th>\n",
       "      <th>ShoppingTimes</th>\n",
       "      <th>ShoppingItems</th>\n",
       "      <th>ShoppingQuantity</th>\n",
       "      <th>Price</th>\n",
       "    </tr>\n",
       "  </thead>\n",
       "  <tbody>\n",
       "    <tr>\n",
       "      <th>count</th>\n",
       "      <td>4339.000000</td>\n",
       "      <td>4339.000000</td>\n",
       "      <td>4339.000000</td>\n",
       "      <td>4339.000000</td>\n",
       "    </tr>\n",
       "    <tr>\n",
       "      <th>mean</th>\n",
       "      <td>5.113621</td>\n",
       "      <td>93.929246</td>\n",
       "      <td>1134.072367</td>\n",
       "      <td>1921.421274</td>\n",
       "    </tr>\n",
       "    <tr>\n",
       "      <th>std</th>\n",
       "      <td>9.370640</td>\n",
       "      <td>233.216521</td>\n",
       "      <td>4689.317335</td>\n",
       "      <td>8247.817146</td>\n",
       "    </tr>\n",
       "    <tr>\n",
       "      <th>min</th>\n",
       "      <td>1.000000</td>\n",
       "      <td>1.000000</td>\n",
       "      <td>-189.000000</td>\n",
       "      <td>0.000000</td>\n",
       "    </tr>\n",
       "    <tr>\n",
       "      <th>25%</th>\n",
       "      <td>1.000000</td>\n",
       "      <td>18.000000</td>\n",
       "      <td>158.000000</td>\n",
       "      <td>301.160000</td>\n",
       "    </tr>\n",
       "    <tr>\n",
       "      <th>50%</th>\n",
       "      <td>3.000000</td>\n",
       "      <td>42.000000</td>\n",
       "      <td>373.000000</td>\n",
       "      <td>657.300000</td>\n",
       "    </tr>\n",
       "    <tr>\n",
       "      <th>75%</th>\n",
       "      <td>6.000000</td>\n",
       "      <td>102.000000</td>\n",
       "      <td>978.500000</td>\n",
       "      <td>1627.625000</td>\n",
       "    </tr>\n",
       "    <tr>\n",
       "      <th>max</th>\n",
       "      <td>248.000000</td>\n",
       "      <td>7983.000000</td>\n",
       "      <td>196719.000000</td>\n",
       "      <td>279489.020000</td>\n",
       "    </tr>\n",
       "  </tbody>\n",
       "</table>\n",
       "</div>"
      ],
      "text/plain": [
       "       ShoppingTimes  ShoppingItems  ShoppingQuantity          Price\n",
       "count    4339.000000    4339.000000       4339.000000    4339.000000\n",
       "mean        5.113621      93.929246       1134.072367    1921.421274\n",
       "std         9.370640     233.216521       4689.317335    8247.817146\n",
       "min         1.000000       1.000000       -189.000000       0.000000\n",
       "25%         1.000000      18.000000        158.000000     301.160000\n",
       "50%         3.000000      42.000000        373.000000     657.300000\n",
       "75%         6.000000     102.000000        978.500000    1627.625000\n",
       "max       248.000000    7983.000000     196719.000000  279489.020000"
      ]
     },
     "execution_count": 15,
     "metadata": {},
     "output_type": "execute_result"
    }
   ],
   "source": [
    "df_customer.describe()"
   ]
  },
  {
   "attachments": {},
   "cell_type": "markdown",
   "metadata": {},
   "source": [
    "According to the DataFrame's description, the standard deviation of every quantitative value is even larger than its mean. Hence, data interpretation by using mean isn't likely to be fair, so I use the median to take a brief observation for now. The median, or the 50th percentile, of `ShoppingItems` is 3 times, and the median of `Price` is 657.3. Those two variables are interesting to find some more insights since they contain features that most stores would generally like to increase."
   ]
  },
  {
   "attachments": {},
   "cell_type": "markdown",
   "metadata": {},
   "source": [
    "Next, I divided customers into 5 groups by the `RecentTimeShoppping` value in ascending order to evaluate using R-score. R-score lets us infer how recent the customers make a purchase. Customers who visited the store most lately will get the most score. As a result, the customers group that are in group 5 visited the store most recently, so they get 5 scores, which is the full score, and it goes in this patterns in other groups."
   ]
  },
  {
   "cell_type": "code",
   "execution_count": 56,
   "metadata": {},
   "outputs": [
    {
     "data": {
      "text/plain": [
       "4    921\n",
       "2    868\n",
       "3    857\n",
       "1    849\n",
       "5    844\n",
       "Name: RScore, dtype: int64"
      ]
     },
     "execution_count": 56,
     "metadata": {},
     "output_type": "execute_result"
    }
   ],
   "source": [
    "date_range = [int(date.split(' ')[0].replace('-', '')) for date in df_customer['RecentTimeShopping'].unique()]\n",
    "\n",
    "def date_to_score(date):\n",
    "    date_int = int(date.split(' ')[0].replace('-', ''))\n",
    "    for i in range(1, 6):\n",
    "        if date_int <= np.percentile(date_range, 20 * i):\n",
    "            return i\n",
    "\n",
    "df_customer['RScore'] = df_customer['RecentTimeShopping'].apply(lambda x: date_to_score(x))\n",
    "\n",
    "df_customer['RScore'].value_counts()"
   ]
  },
  {
   "attachments": {},
   "cell_type": "markdown",
   "metadata": {},
   "source": [
    "I then divided customers into 5 groups by the `ShopppingTimes` value in ascending order to evaluate using F-score. F-score lets us infer how frequent the customers make a purchase. Customers who visit the store most often will get the most score. As a result, the customers group that are in group 5 visit the store most often, so they get 5 scores, which is the full score, and it goes in this patterns in other groups."
   ]
  },
  {
   "cell_type": "code",
   "execution_count": 57,
   "metadata": {},
   "outputs": [
    {
     "data": {
      "text/plain": [
       "1    4030\n",
       "2     216\n",
       "3      55\n",
       "4      24\n",
       "5      14\n",
       "Name: FScore, dtype: int64"
      ]
     },
     "execution_count": 57,
     "metadata": {},
     "output_type": "execute_result"
    }
   ],
   "source": [
    "time_range = df_customer['ShoppingTimes'].unique()\n",
    "\n",
    "def time_to_score(time):\n",
    "    for i in range(1, 6):\n",
    "        if time <= np.percentile(time_range, 20 * i):\n",
    "            return i\n",
    "\n",
    "df_customer['FScore'] = df_customer['ShoppingTimes'].apply(lambda x: time_to_score(x))\n",
    "\n",
    "df_customer['FScore'].value_counts()"
   ]
  },
  {
   "attachments": {},
   "cell_type": "markdown",
   "metadata": {},
   "source": [
    "After that, I divided customers into 5 groups by the `Price` value in ascending order to evaluate using M-score. M-score tells us how much money in total that the customers make a purchase. Customers who pay most to the store will get the most score. As a result, the customers group that are in group 5 pay most money to the store, so they get 5 scores, which is the full score, and it goes in this patterns in other groups."
   ]
  },
  {
   "cell_type": "code",
   "execution_count": 58,
   "metadata": {},
   "outputs": [
    {
     "data": {
      "text/plain": [
       "1    916\n",
       "2    865\n",
       "3    857\n",
       "5    851\n",
       "4    850\n",
       "Name: MScore, dtype: int64"
      ]
     },
     "execution_count": 58,
     "metadata": {},
     "output_type": "execute_result"
    }
   ],
   "source": [
    "price_range = df_customer['Price'].unique()\n",
    "\n",
    "def price_to_score(price):\n",
    "    for i in range(1, 6):\n",
    "        if price <= np.percentile(price_range, 20 * i):\n",
    "            return i\n",
    "\n",
    "df_customer['MScore'] = df_customer['Price'].apply(lambda x: price_to_score(x))\n",
    "\n",
    "df_customer['MScore'].value_counts()"
   ]
  },
  {
   "attachments": {},
   "cell_type": "markdown",
   "metadata": {},
   "source": [
    "I combined F-score and M-score because they are assumed to have a correlation with each other, so I could reduce both dimensions into one. FM-score is the output from both scores, which is calculated by the half of the multiplication of both scores."
   ]
  },
  {
   "cell_type": "code",
   "execution_count": 59,
   "metadata": {},
   "outputs": [
    {
     "data": {
      "text/html": [
       "<div>\n",
       "<style scoped>\n",
       "    .dataframe tbody tr th:only-of-type {\n",
       "        vertical-align: middle;\n",
       "    }\n",
       "\n",
       "    .dataframe tbody tr th {\n",
       "        vertical-align: top;\n",
       "    }\n",
       "\n",
       "    .dataframe thead th {\n",
       "        text-align: right;\n",
       "    }\n",
       "</style>\n",
       "<table border=\"1\" class=\"dataframe\">\n",
       "  <thead>\n",
       "    <tr style=\"text-align: right;\">\n",
       "      <th></th>\n",
       "      <th>CustomerID</th>\n",
       "      <th>Country</th>\n",
       "      <th>ShoppingTimes</th>\n",
       "      <th>FirstTimeShopping</th>\n",
       "      <th>RecentTimeShopping</th>\n",
       "      <th>ShoppingItems</th>\n",
       "      <th>ShoppingQuantity</th>\n",
       "      <th>Price</th>\n",
       "      <th>RScore</th>\n",
       "      <th>FScore</th>\n",
       "      <th>MScore</th>\n",
       "      <th>FMScore</th>\n",
       "    </tr>\n",
       "  </thead>\n",
       "  <tbody>\n",
       "    <tr>\n",
       "      <th>0</th>\n",
       "      <td>17850.0</td>\n",
       "      <td>United Kingdom</td>\n",
       "      <td>35</td>\n",
       "      <td>2010-12-01 08:26:00</td>\n",
       "      <td>2011-02-10 14:38:00</td>\n",
       "      <td>312</td>\n",
       "      <td>1693</td>\n",
       "      <td>5288.63</td>\n",
       "      <td>1</td>\n",
       "      <td>3</td>\n",
       "      <td>5</td>\n",
       "      <td>3.0</td>\n",
       "    </tr>\n",
       "    <tr>\n",
       "      <th>1</th>\n",
       "      <td>13047.0</td>\n",
       "      <td>United Kingdom</td>\n",
       "      <td>18</td>\n",
       "      <td>2010-12-01 08:34:00</td>\n",
       "      <td>2011-11-08 12:10:00</td>\n",
       "      <td>196</td>\n",
       "      <td>1355</td>\n",
       "      <td>3079.10</td>\n",
       "      <td>4</td>\n",
       "      <td>2</td>\n",
       "      <td>5</td>\n",
       "      <td>2.0</td>\n",
       "    </tr>\n",
       "    <tr>\n",
       "      <th>2</th>\n",
       "      <td>12583.0</td>\n",
       "      <td>France</td>\n",
       "      <td>18</td>\n",
       "      <td>2010-12-01 08:45:00</td>\n",
       "      <td>2011-12-07 08:07:00</td>\n",
       "      <td>251</td>\n",
       "      <td>5009</td>\n",
       "      <td>7187.34</td>\n",
       "      <td>5</td>\n",
       "      <td>2</td>\n",
       "      <td>5</td>\n",
       "      <td>2.0</td>\n",
       "    </tr>\n",
       "    <tr>\n",
       "      <th>3</th>\n",
       "      <td>13748.0</td>\n",
       "      <td>United Kingdom</td>\n",
       "      <td>5</td>\n",
       "      <td>2010-12-01 09:00:00</td>\n",
       "      <td>2011-09-05 09:45:00</td>\n",
       "      <td>28</td>\n",
       "      <td>439</td>\n",
       "      <td>948.25</td>\n",
       "      <td>2</td>\n",
       "      <td>1</td>\n",
       "      <td>3</td>\n",
       "      <td>0.6</td>\n",
       "    </tr>\n",
       "    <tr>\n",
       "      <th>4</th>\n",
       "      <td>15100.0</td>\n",
       "      <td>United Kingdom</td>\n",
       "      <td>6</td>\n",
       "      <td>2010-12-01 09:09:00</td>\n",
       "      <td>2011-01-13 17:09:00</td>\n",
       "      <td>6</td>\n",
       "      <td>58</td>\n",
       "      <td>635.10</td>\n",
       "      <td>1</td>\n",
       "      <td>1</td>\n",
       "      <td>3</td>\n",
       "      <td>0.6</td>\n",
       "    </tr>\n",
       "  </tbody>\n",
       "</table>\n",
       "</div>"
      ],
      "text/plain": [
       "  CustomerID         Country  ShoppingTimes    FirstTimeShopping  \\\n",
       "0    17850.0  United Kingdom             35  2010-12-01 08:26:00   \n",
       "1    13047.0  United Kingdom             18  2010-12-01 08:34:00   \n",
       "2    12583.0          France             18  2010-12-01 08:45:00   \n",
       "3    13748.0  United Kingdom              5  2010-12-01 09:00:00   \n",
       "4    15100.0  United Kingdom              6  2010-12-01 09:09:00   \n",
       "\n",
       "    RecentTimeShopping  ShoppingItems  ShoppingQuantity    Price  RScore  \\\n",
       "0  2011-02-10 14:38:00            312              1693  5288.63       1   \n",
       "1  2011-11-08 12:10:00            196              1355  3079.10       4   \n",
       "2  2011-12-07 08:07:00            251              5009  7187.34       5   \n",
       "3  2011-09-05 09:45:00             28               439   948.25       2   \n",
       "4  2011-01-13 17:09:00              6                58   635.10       1   \n",
       "\n",
       "   FScore  MScore  FMScore  \n",
       "0       3       5      3.0  \n",
       "1       2       5      2.0  \n",
       "2       2       5      2.0  \n",
       "3       1       3      0.6  \n",
       "4       1       3      0.6  "
      ]
     },
     "execution_count": 59,
     "metadata": {},
     "output_type": "execute_result"
    }
   ],
   "source": [
    "df_customer['FMScore'] = df_customer[['FScore', 'MScore']].apply(lambda x: ((x[0] * x[1]) / 25) * 5, axis=1)\n",
    "\n",
    "df_customer.head(5)"
   ]
  },
  {
   "attachments": {},
   "cell_type": "markdown",
   "metadata": {},
   "source": [
    "Like what I did to `df` and `df_invoice`, I exported `df_customer` as `customer_clean.csv`."
   ]
  },
  {
   "cell_type": "code",
   "execution_count": 3,
   "metadata": {},
   "outputs": [
    {
     "data": {
      "text/html": [
       "<div>\n",
       "<style scoped>\n",
       "    .dataframe tbody tr th:only-of-type {\n",
       "        vertical-align: middle;\n",
       "    }\n",
       "\n",
       "    .dataframe tbody tr th {\n",
       "        vertical-align: top;\n",
       "    }\n",
       "\n",
       "    .dataframe thead th {\n",
       "        text-align: right;\n",
       "    }\n",
       "</style>\n",
       "<table border=\"1\" class=\"dataframe\">\n",
       "  <thead>\n",
       "    <tr style=\"text-align: right;\">\n",
       "      <th></th>\n",
       "      <th>CustomerID</th>\n",
       "      <th>Country</th>\n",
       "      <th>ShoppingTimes</th>\n",
       "      <th>FirstTimeShopping</th>\n",
       "      <th>RecentTimeShopping</th>\n",
       "      <th>ShoppingItems</th>\n",
       "      <th>ShoppingQuantity</th>\n",
       "      <th>Price</th>\n",
       "      <th>RScore</th>\n",
       "      <th>FScore</th>\n",
       "      <th>MScore</th>\n",
       "      <th>FMScore</th>\n",
       "    </tr>\n",
       "  </thead>\n",
       "  <tbody>\n",
       "    <tr>\n",
       "      <th>0</th>\n",
       "      <td>17850.0</td>\n",
       "      <td>United Kingdom</td>\n",
       "      <td>35</td>\n",
       "      <td>2010-12-01 08:26:00</td>\n",
       "      <td>2011-02-10 14:38:00</td>\n",
       "      <td>312</td>\n",
       "      <td>1693</td>\n",
       "      <td>5288.63</td>\n",
       "      <td>1</td>\n",
       "      <td>3</td>\n",
       "      <td>5</td>\n",
       "      <td>3.0</td>\n",
       "    </tr>\n",
       "    <tr>\n",
       "      <th>1</th>\n",
       "      <td>13047.0</td>\n",
       "      <td>United Kingdom</td>\n",
       "      <td>18</td>\n",
       "      <td>2010-12-01 08:34:00</td>\n",
       "      <td>2011-11-08 12:10:00</td>\n",
       "      <td>196</td>\n",
       "      <td>1355</td>\n",
       "      <td>3079.10</td>\n",
       "      <td>4</td>\n",
       "      <td>2</td>\n",
       "      <td>5</td>\n",
       "      <td>2.0</td>\n",
       "    </tr>\n",
       "    <tr>\n",
       "      <th>2</th>\n",
       "      <td>12583.0</td>\n",
       "      <td>France</td>\n",
       "      <td>18</td>\n",
       "      <td>2010-12-01 08:45:00</td>\n",
       "      <td>2011-12-07 08:07:00</td>\n",
       "      <td>251</td>\n",
       "      <td>5009</td>\n",
       "      <td>7187.34</td>\n",
       "      <td>5</td>\n",
       "      <td>2</td>\n",
       "      <td>5</td>\n",
       "      <td>2.0</td>\n",
       "    </tr>\n",
       "    <tr>\n",
       "      <th>3</th>\n",
       "      <td>13748.0</td>\n",
       "      <td>United Kingdom</td>\n",
       "      <td>5</td>\n",
       "      <td>2010-12-01 09:00:00</td>\n",
       "      <td>2011-09-05 09:45:00</td>\n",
       "      <td>28</td>\n",
       "      <td>439</td>\n",
       "      <td>948.25</td>\n",
       "      <td>2</td>\n",
       "      <td>1</td>\n",
       "      <td>3</td>\n",
       "      <td>0.6</td>\n",
       "    </tr>\n",
       "    <tr>\n",
       "      <th>4</th>\n",
       "      <td>15100.0</td>\n",
       "      <td>United Kingdom</td>\n",
       "      <td>6</td>\n",
       "      <td>2010-12-01 09:09:00</td>\n",
       "      <td>2011-01-13 17:09:00</td>\n",
       "      <td>6</td>\n",
       "      <td>58</td>\n",
       "      <td>635.10</td>\n",
       "      <td>1</td>\n",
       "      <td>1</td>\n",
       "      <td>3</td>\n",
       "      <td>0.6</td>\n",
       "    </tr>\n",
       "  </tbody>\n",
       "</table>\n",
       "</div>"
      ],
      "text/plain": [
       "   CustomerID         Country  ShoppingTimes    FirstTimeShopping  \\\n",
       "0     17850.0  United Kingdom             35  2010-12-01 08:26:00   \n",
       "1     13047.0  United Kingdom             18  2010-12-01 08:34:00   \n",
       "2     12583.0          France             18  2010-12-01 08:45:00   \n",
       "3     13748.0  United Kingdom              5  2010-12-01 09:00:00   \n",
       "4     15100.0  United Kingdom              6  2010-12-01 09:09:00   \n",
       "\n",
       "    RecentTimeShopping  ShoppingItems  ShoppingQuantity    Price  RScore  \\\n",
       "0  2011-02-10 14:38:00            312              1693  5288.63       1   \n",
       "1  2011-11-08 12:10:00            196              1355  3079.10       4   \n",
       "2  2011-12-07 08:07:00            251              5009  7187.34       5   \n",
       "3  2011-09-05 09:45:00             28               439   948.25       2   \n",
       "4  2011-01-13 17:09:00              6                58   635.10       1   \n",
       "\n",
       "   FScore  MScore  FMScore  \n",
       "0       3       5      3.0  \n",
       "1       2       5      2.0  \n",
       "2       2       5      2.0  \n",
       "3       1       3      0.6  \n",
       "4       1       3      0.6  "
      ]
     },
     "execution_count": 3,
     "metadata": {},
     "output_type": "execute_result"
    }
   ],
   "source": [
    "df_customer.to_csv(os.path.join(file_path, 'customer_clean.csv'), index=False)\n",
    "df_customer = pd.read_csv(os.path.join(file_path, 'customer_clean.csv'), encoding = \"ISO-8859-1\")\n",
    "\n",
    "df_customer.head(5)"
   ]
  },
  {
   "attachments": {},
   "cell_type": "markdown",
   "metadata": {},
   "source": [
    "Visualization: https://public.tableau.com/app/profile/komsan.kongwongsupak/viz/customer-segmentation/Story1?publish=yes"
   ]
  },
  {
   "attachments": {},
   "cell_type": "markdown",
   "metadata": {},
   "source": [
    "### Customer Segmentation\n",
    "\n",
    "Based on my research, there are 4 main existing approaches for clustering the unsupervised data; K-Means, Hierarchical Clustering, Gaussian Mixture, and DBSCAN. Thus, in this part, I tried all 4 clustering algorithms to find out which one works best for this dataset."
   ]
  },
  {
   "cell_type": "code",
   "execution_count": 4,
   "metadata": {},
   "outputs": [
    {
     "name": "stdout",
     "output_type": "stream",
     "text": [
      "<class 'pandas.core.frame.DataFrame'>\n",
      "RangeIndex: 4339 entries, 0 to 4338\n",
      "Data columns (total 13 columns):\n",
      " #   Column              Non-Null Count  Dtype  \n",
      "---  ------              --------------  -----  \n",
      " 0   CustomerID          4339 non-null   float64\n",
      " 1   Country             4339 non-null   object \n",
      " 2   ShoppingTimes       4339 non-null   int64  \n",
      " 3   FirstTimeShopping   4339 non-null   object \n",
      " 4   RecentTimeShopping  4339 non-null   object \n",
      " 5   ShoppingItems       4339 non-null   int64  \n",
      " 6   ShoppingQuantity    4339 non-null   int64  \n",
      " 7   Price               4339 non-null   float64\n",
      " 8   RScore              4339 non-null   int64  \n",
      " 9   FScore              4339 non-null   int64  \n",
      " 10  MScore              4339 non-null   int64  \n",
      " 11  FMScore             4339 non-null   float64\n",
      " 12  DaysSinceRecent     4339 non-null   int64  \n",
      "dtypes: float64(3), int64(7), object(3)\n",
      "memory usage: 440.8+ KB\n"
     ]
    }
   ],
   "source": [
    "df_customer['DaysSinceRecent'] = df_customer['RecentTimeShopping'].apply(lambda x: (pd.Timestamp('2012-01-01 00:00:00') - pd.Timestamp(x)).days)\n",
    "\n",
    "df_customer.info()"
   ]
  },
  {
   "cell_type": "code",
   "execution_count": 5,
   "metadata": {},
   "outputs": [
    {
     "name": "stderr",
     "output_type": "stream",
     "text": [
      "c:\\Users\\User\\AppData\\Local\\Programs\\Python\\Python310\\lib\\site-packages\\sklearn\\cluster\\_kmeans.py:870: FutureWarning: The default value of `n_init` will change from 10 to 'auto' in 1.4. Set the value of `n_init` explicitly to suppress the warning\n",
      "  warnings.warn(\n",
      "c:\\Users\\User\\AppData\\Local\\Programs\\Python\\Python310\\lib\\site-packages\\sklearn\\cluster\\_kmeans.py:870: FutureWarning: The default value of `n_init` will change from 10 to 'auto' in 1.4. Set the value of `n_init` explicitly to suppress the warning\n",
      "  warnings.warn(\n",
      "c:\\Users\\User\\AppData\\Local\\Programs\\Python\\Python310\\lib\\site-packages\\sklearn\\cluster\\_kmeans.py:870: FutureWarning: The default value of `n_init` will change from 10 to 'auto' in 1.4. Set the value of `n_init` explicitly to suppress the warning\n",
      "  warnings.warn(\n"
     ]
    },
    {
     "data": {
      "text/html": [
       "<div>\n",
       "<style scoped>\n",
       "    .dataframe tbody tr th:only-of-type {\n",
       "        vertical-align: middle;\n",
       "    }\n",
       "\n",
       "    .dataframe tbody tr th {\n",
       "        vertical-align: top;\n",
       "    }\n",
       "\n",
       "    .dataframe thead th {\n",
       "        text-align: right;\n",
       "    }\n",
       "</style>\n",
       "<table border=\"1\" class=\"dataframe\">\n",
       "  <thead>\n",
       "    <tr style=\"text-align: right;\">\n",
       "      <th></th>\n",
       "      <th>Model</th>\n",
       "      <th>Clusters</th>\n",
       "      <th>SilhouetteScore</th>\n",
       "      <th>DaviesBouldinScore</th>\n",
       "    </tr>\n",
       "  </thead>\n",
       "  <tbody>\n",
       "    <tr>\n",
       "      <th>0</th>\n",
       "      <td>K-Means</td>\n",
       "      <td>3</td>\n",
       "      <td>0.962972</td>\n",
       "      <td>0.359789</td>\n",
       "    </tr>\n",
       "    <tr>\n",
       "      <th>1</th>\n",
       "      <td>K-Means</td>\n",
       "      <td>4</td>\n",
       "      <td>0.883898</td>\n",
       "      <td>0.463651</td>\n",
       "    </tr>\n",
       "    <tr>\n",
       "      <th>2</th>\n",
       "      <td>K-Means</td>\n",
       "      <td>5</td>\n",
       "      <td>0.815267</td>\n",
       "      <td>0.429808</td>\n",
       "    </tr>\n",
       "    <tr>\n",
       "      <th>3</th>\n",
       "      <td>Agglomerative Clustering</td>\n",
       "      <td>3</td>\n",
       "      <td>0.949567</td>\n",
       "      <td>0.512924</td>\n",
       "    </tr>\n",
       "    <tr>\n",
       "      <th>4</th>\n",
       "      <td>Agglomerative Clustering</td>\n",
       "      <td>4</td>\n",
       "      <td>0.950060</td>\n",
       "      <td>0.359266</td>\n",
       "    </tr>\n",
       "    <tr>\n",
       "      <th>5</th>\n",
       "      <td>Agglomerative Clustering</td>\n",
       "      <td>5</td>\n",
       "      <td>0.782716</td>\n",
       "      <td>0.452121</td>\n",
       "    </tr>\n",
       "    <tr>\n",
       "      <th>6</th>\n",
       "      <td>Gaussian Mixture</td>\n",
       "      <td>3</td>\n",
       "      <td>0.498862</td>\n",
       "      <td>0.993326</td>\n",
       "    </tr>\n",
       "    <tr>\n",
       "      <th>7</th>\n",
       "      <td>Gaussian Mixture</td>\n",
       "      <td>4</td>\n",
       "      <td>0.490722</td>\n",
       "      <td>0.707014</td>\n",
       "    </tr>\n",
       "    <tr>\n",
       "      <th>8</th>\n",
       "      <td>Gaussian Mixture</td>\n",
       "      <td>5</td>\n",
       "      <td>0.355295</td>\n",
       "      <td>0.873804</td>\n",
       "    </tr>\n",
       "  </tbody>\n",
       "</table>\n",
       "</div>"
      ],
      "text/plain": [
       "                      Model  Clusters  SilhouetteScore  DaviesBouldinScore\n",
       "0                   K-Means         3         0.962972            0.359789\n",
       "1                   K-Means         4         0.883898            0.463651\n",
       "2                   K-Means         5         0.815267            0.429808\n",
       "3  Agglomerative Clustering         3         0.949567            0.512924\n",
       "4  Agglomerative Clustering         4         0.950060            0.359266\n",
       "5  Agglomerative Clustering         5         0.782716            0.452121\n",
       "6          Gaussian Mixture         3         0.498862            0.993326\n",
       "7          Gaussian Mixture         4         0.490722            0.707014\n",
       "8          Gaussian Mixture         5         0.355295            0.873804"
      ]
     },
     "execution_count": 5,
     "metadata": {},
     "output_type": "execute_result"
    }
   ],
   "source": [
    "from sklearn.cluster import KMeans, AgglomerativeClustering, DBSCAN\n",
    "from sklearn.mixture import GaussianMixture\n",
    "from sklearn.metrics import silhouette_score, davies_bouldin_score\n",
    "\n",
    "X = df_customer[['DaysSinceRecent', 'ShoppingTimes', 'Price']]\n",
    "n_clusters_values = range(3, 6)\n",
    "eval_result = []\n",
    "\n",
    "for cluster in n_clusters_values:\n",
    "    y_km = KMeans(n_clusters=cluster).fit(X).labels_\n",
    "    eval_result.append(['K-Means', cluster, silhouette_score(X, y_km), davies_bouldin_score(X, y_km)])\n",
    "\n",
    "for cluster in n_clusters_values:\n",
    "    y_hc = AgglomerativeClustering(n_clusters=cluster).fit(X).labels_\n",
    "    eval_result.append(['Agglomerative Clustering', cluster, silhouette_score(X, y_hc), davies_bouldin_score(X, y_hc)])\n",
    "\n",
    "for cluster in n_clusters_values:\n",
    "    y_gm = GaussianMixture(n_components=cluster).fit_predict(X)\n",
    "    eval_result.append(['Gaussian Mixture', cluster, silhouette_score(X, y_gm), davies_bouldin_score(X, y_gm)])\n",
    "\n",
    "df_eval_result = pd.DataFrame(eval_result, columns=['Model', 'Clusters', 'SilhouetteScore', 'DaviesBouldinScore'])\n",
    "df_eval_result"
   ]
  },
  {
   "cell_type": "code",
   "execution_count": 6,
   "metadata": {},
   "outputs": [
    {
     "data": {
      "text/html": [
       "<div>\n",
       "<style scoped>\n",
       "    .dataframe tbody tr th:only-of-type {\n",
       "        vertical-align: middle;\n",
       "    }\n",
       "\n",
       "    .dataframe tbody tr th {\n",
       "        vertical-align: top;\n",
       "    }\n",
       "\n",
       "    .dataframe thead th {\n",
       "        text-align: right;\n",
       "    }\n",
       "</style>\n",
       "<table border=\"1\" class=\"dataframe\">\n",
       "  <thead>\n",
       "    <tr style=\"text-align: right;\">\n",
       "      <th></th>\n",
       "      <th>Model</th>\n",
       "      <th>Clusters</th>\n",
       "      <th>SilhouetteScore</th>\n",
       "      <th>DaviesBouldinScore</th>\n",
       "      <th>Efficiency</th>\n",
       "    </tr>\n",
       "  </thead>\n",
       "  <tbody>\n",
       "    <tr>\n",
       "      <th>0</th>\n",
       "      <td>K-Means</td>\n",
       "      <td>3</td>\n",
       "      <td>0.962972</td>\n",
       "      <td>0.359789</td>\n",
       "      <td>2.676492</td>\n",
       "    </tr>\n",
       "  </tbody>\n",
       "</table>\n",
       "</div>"
      ],
      "text/plain": [
       "     Model  Clusters  SilhouetteScore  DaviesBouldinScore  Efficiency\n",
       "0  K-Means         3         0.962972            0.359789    2.676492"
      ]
     },
     "execution_count": 6,
     "metadata": {},
     "output_type": "execute_result"
    }
   ],
   "source": [
    "df_eval_result['Efficiency'] = df_eval_result[['SilhouetteScore', 'DaviesBouldinScore']].apply(lambda x: abs(x[0]) / x[1], axis=1)\n",
    "\n",
    "df_eval_result[df_eval_result['Efficiency'] == df_eval_result['Efficiency'].max()]"
   ]
  },
  {
   "cell_type": "code",
   "execution_count": 7,
   "metadata": {},
   "outputs": [
    {
     "name": "stdout",
     "output_type": "stream",
     "text": [
      "<class 'pandas.core.frame.DataFrame'>\n",
      "RangeIndex: 104 entries, 0 to 103\n",
      "Data columns (total 3 columns):\n",
      " #   Column      Non-Null Count  Dtype  \n",
      "---  ------      --------------  -----  \n",
      " 0   Eps         104 non-null    float64\n",
      " 1   MinSamples  104 non-null    int64  \n",
      " 2   Efficiency  104 non-null    float64\n",
      "dtypes: float64(2), int64(1)\n",
      "memory usage: 2.6 KB\n"
     ]
    }
   ],
   "source": [
    "eps_values = np.arange(1, 10, 0.1)\n",
    "min_samples_values = range(1, 101)\n",
    "eval_result_dbscan = []\n",
    "\n",
    "for eps in eps_values:\n",
    "    for min_samples in min_samples_values:\n",
    "        y_dbscan = DBSCAN(eps=eps, min_samples=min_samples).fit(X).labels_\n",
    "        labels = len(np.unique(y_dbscan))\n",
    "        if labels > 1 and labels < 6:\n",
    "            eval_result_dbscan.append([eps, min_samples, abs(silhouette_score(X, y_dbscan)) / davies_bouldin_score(X, y_dbscan)])\n",
    "\n",
    "df_eval_result_dbscan = pd.DataFrame(eval_result_dbscan, columns=['Eps', 'MinSamples', 'Efficiency'])\n",
    "df_eval_result_dbscan.info()"
   ]
  },
  {
   "cell_type": "code",
   "execution_count": 8,
   "metadata": {},
   "outputs": [
    {
     "data": {
      "text/plain": [
       "[<matplotlib.lines.Line2D at 0x1cbeeb93d30>]"
      ]
     },
     "execution_count": 8,
     "metadata": {},
     "output_type": "execute_result"
    },
    {
     "data": {
      "image/png": "[encoded data removed]",
      "text/plain": [
       "<Figure size 2400x400 with 2 Axes>"
      ]
     },
     "metadata": {},
     "output_type": "display_data"
    }
   ],
   "source": [
    "x = df_eval_result_dbscan['Eps'].values\n",
    "y = df_eval_result_dbscan['MinSamples'].values\n",
    "z = df_eval_result_dbscan['Efficiency'].values\n",
    "\n",
    "sns.set()\n",
    "figure, axes = plt.subplots(1, 2, figsize=(24, 4))\n",
    "\n",
    "axes[0].plot(x, z)\n",
    "axes[1].plot(y, z)"
   ]
  },
  {
   "cell_type": "code",
   "execution_count": 9,
   "metadata": {},
   "outputs": [
    {
     "data": {
      "text/html": [
       "<div>\n",
       "<style scoped>\n",
       "    .dataframe tbody tr th:only-of-type {\n",
       "        vertical-align: middle;\n",
       "    }\n",
       "\n",
       "    .dataframe tbody tr th {\n",
       "        vertical-align: top;\n",
       "    }\n",
       "\n",
       "    .dataframe thead th {\n",
       "        text-align: right;\n",
       "    }\n",
       "</style>\n",
       "<table border=\"1\" class=\"dataframe\">\n",
       "  <thead>\n",
       "    <tr style=\"text-align: right;\">\n",
       "      <th></th>\n",
       "      <th>Eps</th>\n",
       "      <th>MinSamples</th>\n",
       "      <th>Efficiency</th>\n",
       "    </tr>\n",
       "  </thead>\n",
       "  <tbody>\n",
       "    <tr>\n",
       "      <th>3</th>\n",
       "      <td>1.4</td>\n",
       "      <td>3</td>\n",
       "      <td>0.504909</td>\n",
       "    </tr>\n",
       "    <tr>\n",
       "      <th>4</th>\n",
       "      <td>1.5</td>\n",
       "      <td>3</td>\n",
       "      <td>0.504909</td>\n",
       "    </tr>\n",
       "  </tbody>\n",
       "</table>\n",
       "</div>"
      ],
      "text/plain": [
       "   Eps  MinSamples  Efficiency\n",
       "3  1.4           3    0.504909\n",
       "4  1.5           3    0.504909"
      ]
     },
     "execution_count": 9,
     "metadata": {},
     "output_type": "execute_result"
    }
   ],
   "source": [
    "df_eval_result_dbscan[df_eval_result_dbscan['Efficiency'] == df_eval_result_dbscan['Efficiency'].max()]"
   ]
  },
  {
   "cell_type": "code",
   "execution_count": 29,
   "metadata": {},
   "outputs": [
    {
     "name": "stderr",
     "output_type": "stream",
     "text": [
      "c:\\Users\\User\\AppData\\Local\\Programs\\Python\\Python310\\lib\\site-packages\\sklearn\\cluster\\_kmeans.py:870: FutureWarning: The default value of `n_init` will change from 10 to 'auto' in 1.4. Set the value of `n_init` explicitly to suppress the warning\n",
      "  warnings.warn(\n",
      "C:\\Users\\User\\AppData\\Local\\Temp\\ipykernel_30992\\3855259328.py:1: SettingWithCopyWarning: \n",
      "A value is trying to be set on a copy of a slice from a DataFrame.\n",
      "Try using .loc[row_indexer,col_indexer] = value instead\n",
      "\n",
      "See the caveats in the documentation: https://pandas.pydata.org/pandas-docs/stable/user_guide/indexing.html#returning-a-view-versus-a-copy\n",
      "  X['Group'] = KMeans(n_clusters=3).fit(X).labels_\n"
     ]
    },
    {
     "data": {
      "text/plain": [
       "<Axes: xlabel='DaysSinceRecent', ylabel='Price'>"
      ]
     },
     "execution_count": 29,
     "metadata": {},
     "output_type": "execute_result"
    },
    {
     "data": {
      "image/png": "[encoded data removed]",
      "text/plain": [
       "<Figure size 2400x800 with 3 Axes>"
      ]
     },
     "metadata": {},
     "output_type": "display_data"
    }
   ],
   "source": [
    "X['Group'] = KMeans(n_clusters=3).fit(X).labels_\n",
    "\n",
    "sns.set()\n",
    "figure, axes = plt.subplots(1, 3, figsize=(24,8))\n",
    "sns.scatterplot(ax=axes[0], data=X, x='DaysSinceRecent', y='ShoppingTimes', hue='Group', palette='bright')\n",
    "sns.scatterplot(ax=axes[1], data=X, x='ShoppingTimes', y='Price', hue='Group', palette='bright')\n",
    "sns.scatterplot(ax=axes[2], data=X, x='DaysSinceRecent', y='Price', hue='Group', palette='bright')"
   ]
  },
  {
   "cell_type": "code",
   "execution_count": 11,
   "metadata": {},
   "outputs": [
    {
     "data": {
      "text/plain": [
       "0    4314\n",
       "2      22\n",
       "1       3\n",
       "Name: Group, dtype: int64"
      ]
     },
     "execution_count": 11,
     "metadata": {},
     "output_type": "execute_result"
    }
   ],
   "source": [
    "X['Group'].value_counts()"
   ]
  },
  {
   "cell_type": "code",
   "execution_count": 30,
   "metadata": {},
   "outputs": [
    {
     "data": {
      "text/plain": [
       "<Axes: xlabel='Group', ylabel='Price'>"
      ]
     },
     "execution_count": 30,
     "metadata": {},
     "output_type": "execute_result"
    },
    {
     "data": {
      "image/png": "[encoded data removed]",
      "text/plain": [
       "<Figure size 2400x800 with 3 Axes>"
      ]
     },
     "metadata": {},
     "output_type": "display_data"
    }
   ],
   "source": [
    "figure, axes = plt.subplots(1, 3, figsize=(24, 8))\n",
    "sns.boxplot(ax=axes[0], data=X, x='Group', y='DaysSinceRecent', palette='bright')\n",
    "sns.boxplot(ax=axes[1], data=X, x='Group', y='ShoppingTimes', palette='bright')\n",
    "sns.boxplot(ax=axes[2], data=X, x='Group', y='Price', palette='bright')"
   ]
  }
 ],
 "metadata": {
  "kernelspec": {
   "display_name": "Python 3",
   "language": "python",
   "name": "python3"
  },
  "language_info": {
   "codemirror_mode": {
    "name": "ipython",
    "version": 3
   },
   "file_extension": ".py",
   "mimetype": "text/x-python",
   "name": "python",
   "nbconvert_exporter": "python",
   "pygments_lexer": "ipython3",
   "version": "3.10.7"
  },
  "orig_nbformat": 4
 },
 "nbformat": 4,
 "nbformat_minor": 2
}
